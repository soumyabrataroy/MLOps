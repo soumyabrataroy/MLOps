{
  "cells": [
    {
      "cell_type": "code",
      "execution_count": 6,
      "metadata": {
        "id": "Ut2TwOTP8J0q"
      },
      "outputs": [],
      "source": [
        "import numpy as np\n",
        "import pandas as pd\n",
        "import tensorflow as tf\n"
      ]
    },
    {
      "cell_type": "code",
      "execution_count": 7,
      "metadata": {
        "id": "39M7G2r48Q5b"
      },
      "outputs": [],
      "source": [
        "dataset = pd.read_csv(r\"C:\\Users\\soumy\\OneDrive\\Desktop\\ML deployment\\deep_learning_model\\keras\\storepurchasedata_large.csv\")\n"
      ]
    },
    {
      "cell_type": "code",
      "execution_count": 8,
      "metadata": {
        "colab": {
          "base_uri": "https://localhost:8080/",
          "height": 195
        },
        "id": "WZCuiO_QN9K9",
        "outputId": "9e655179-6732-4232-cb44-6f9a10685881"
      },
      "outputs": [
        {
          "data": {
            "text/html": [
              "<div>\n",
              "<style scoped>\n",
              "    .dataframe tbody tr th:only-of-type {\n",
              "        vertical-align: middle;\n",
              "    }\n",
              "\n",
              "    .dataframe tbody tr th {\n",
              "        vertical-align: top;\n",
              "    }\n",
              "\n",
              "    .dataframe thead th {\n",
              "        text-align: right;\n",
              "    }\n",
              "</style>\n",
              "<table border=\"1\" class=\"dataframe\">\n",
              "  <thead>\n",
              "    <tr style=\"text-align: right;\">\n",
              "      <th></th>\n",
              "      <th>Age</th>\n",
              "      <th>Salary</th>\n",
              "      <th>Purchased</th>\n",
              "    </tr>\n",
              "  </thead>\n",
              "  <tbody>\n",
              "    <tr>\n",
              "      <th>0</th>\n",
              "      <td>18</td>\n",
              "      <td>20000</td>\n",
              "      <td>0</td>\n",
              "    </tr>\n",
              "    <tr>\n",
              "      <th>1</th>\n",
              "      <td>19</td>\n",
              "      <td>22000</td>\n",
              "      <td>0</td>\n",
              "    </tr>\n",
              "    <tr>\n",
              "      <th>2</th>\n",
              "      <td>20</td>\n",
              "      <td>24000</td>\n",
              "      <td>0</td>\n",
              "    </tr>\n",
              "    <tr>\n",
              "      <th>3</th>\n",
              "      <td>21</td>\n",
              "      <td>28000</td>\n",
              "      <td>0</td>\n",
              "    </tr>\n",
              "    <tr>\n",
              "      <th>4</th>\n",
              "      <td>22</td>\n",
              "      <td>60000</td>\n",
              "      <td>1</td>\n",
              "    </tr>\n",
              "  </tbody>\n",
              "</table>\n",
              "</div>"
            ],
            "text/plain": [
              "   Age  Salary  Purchased\n",
              "0   18   20000          0\n",
              "1   19   22000          0\n",
              "2   20   24000          0\n",
              "3   21   28000          0\n",
              "4   22   60000          1"
            ]
          },
          "execution_count": 8,
          "metadata": {},
          "output_type": "execute_result"
        }
      ],
      "source": [
        "dataset.head()"
      ]
    },
    {
      "cell_type": "code",
      "execution_count": 9,
      "metadata": {
        "colab": {
          "base_uri": "https://localhost:8080/",
          "height": 284
        },
        "id": "HcnIwi_ROBkM",
        "outputId": "7bed3337-2964-4388-d4ff-e1d02a6e2845"
      },
      "outputs": [
        {
          "data": {
            "text/html": [
              "<div>\n",
              "<style scoped>\n",
              "    .dataframe tbody tr th:only-of-type {\n",
              "        vertical-align: middle;\n",
              "    }\n",
              "\n",
              "    .dataframe tbody tr th {\n",
              "        vertical-align: top;\n",
              "    }\n",
              "\n",
              "    .dataframe thead th {\n",
              "        text-align: right;\n",
              "    }\n",
              "</style>\n",
              "<table border=\"1\" class=\"dataframe\">\n",
              "  <thead>\n",
              "    <tr style=\"text-align: right;\">\n",
              "      <th></th>\n",
              "      <th>Age</th>\n",
              "      <th>Salary</th>\n",
              "      <th>Purchased</th>\n",
              "    </tr>\n",
              "  </thead>\n",
              "  <tbody>\n",
              "    <tr>\n",
              "      <th>count</th>\n",
              "      <td>1554.000000</td>\n",
              "      <td>1554.000000</td>\n",
              "      <td>1554.000000</td>\n",
              "    </tr>\n",
              "    <tr>\n",
              "      <th>mean</th>\n",
              "      <td>44.296010</td>\n",
              "      <td>57042.471042</td>\n",
              "      <td>0.694981</td>\n",
              "    </tr>\n",
              "    <tr>\n",
              "      <th>std</th>\n",
              "      <td>17.462458</td>\n",
              "      <td>21209.244800</td>\n",
              "      <td>0.460564</td>\n",
              "    </tr>\n",
              "    <tr>\n",
              "      <th>min</th>\n",
              "      <td>18.000000</td>\n",
              "      <td>20000.000000</td>\n",
              "      <td>0.000000</td>\n",
              "    </tr>\n",
              "    <tr>\n",
              "      <th>25%</th>\n",
              "      <td>27.000000</td>\n",
              "      <td>46000.000000</td>\n",
              "      <td>0.000000</td>\n",
              "    </tr>\n",
              "    <tr>\n",
              "      <th>50%</th>\n",
              "      <td>43.000000</td>\n",
              "      <td>60000.000000</td>\n",
              "      <td>1.000000</td>\n",
              "    </tr>\n",
              "    <tr>\n",
              "      <th>75%</th>\n",
              "      <td>62.000000</td>\n",
              "      <td>66000.000000</td>\n",
              "      <td>1.000000</td>\n",
              "    </tr>\n",
              "    <tr>\n",
              "      <th>max</th>\n",
              "      <td>69.000000</td>\n",
              "      <td>96000.000000</td>\n",
              "      <td>1.000000</td>\n",
              "    </tr>\n",
              "  </tbody>\n",
              "</table>\n",
              "</div>"
            ],
            "text/plain": [
              "               Age        Salary    Purchased\n",
              "count  1554.000000   1554.000000  1554.000000\n",
              "mean     44.296010  57042.471042     0.694981\n",
              "std      17.462458  21209.244800     0.460564\n",
              "min      18.000000  20000.000000     0.000000\n",
              "25%      27.000000  46000.000000     0.000000\n",
              "50%      43.000000  60000.000000     1.000000\n",
              "75%      62.000000  66000.000000     1.000000\n",
              "max      69.000000  96000.000000     1.000000"
            ]
          },
          "execution_count": 9,
          "metadata": {},
          "output_type": "execute_result"
        }
      ],
      "source": [
        "dataset.describe()"
      ]
    },
    {
      "cell_type": "code",
      "execution_count": 10,
      "metadata": {
        "id": "UeKr8HwTNwa6"
      },
      "outputs": [],
      "source": [
        "\n",
        "X = dataset.iloc[:, :-1].values\n",
        "y = dataset.iloc[:,-1].values"
      ]
    },
    {
      "cell_type": "code",
      "execution_count": 11,
      "metadata": {
        "id": "rXupAm40Oh4p"
      },
      "outputs": [],
      "source": [
        "from sklearn.model_selection import train_test_split\n",
        "X_train, X_test, y_train, y_test = train_test_split(X, y, test_size =.20,random_state=0)"
      ]
    },
    {
      "cell_type": "code",
      "execution_count": 12,
      "metadata": {
        "id": "P4U9716S0pAM"
      },
      "outputs": [],
      "source": [
        "\n",
        "from sklearn.preprocessing import StandardScaler\n",
        "sc = StandardScaler()\n",
        "X_train = sc.fit_transform(X_train)\n",
        "X_test = sc.transform(X_test)"
      ]
    },
    {
      "cell_type": "code",
      "execution_count": 14,
      "metadata": {
        "id": "9rZo2iwTcW2V"
      },
      "outputs": [],
      "source": [
        "model = tf.keras.models.Sequential([\n",
        "  tf.keras.layers.Dense(10, activation='relu'),\n",
        "  tf.keras.layers.Dense(10, activation='relu'),\n",
        "  tf.keras.layers.Dense(2, activation='softmax')\n",
        "])"
      ]
    },
    {
      "cell_type": "code",
      "execution_count": 15,
      "metadata": {
        "id": "lKp_1GanzVym"
      },
      "outputs": [],
      "source": [
        "model.compile(optimizer='adam',\n",
        "              loss='sparse_categorical_crossentropy',\n",
        "              metrics=['accuracy'])"
      ]
    },
    {
      "cell_type": "code",
      "execution_count": 16,
      "metadata": {
        "colab": {
          "base_uri": "https://localhost:8080/"
        },
        "id": "Tq5WTRIszYho",
        "outputId": "8bb3a168-8421-4429-9b9a-53050d591b7a"
      },
      "outputs": [
        {
          "name": "stdout",
          "output_type": "stream",
          "text": [
            "Epoch 1/50\n",
            "39/39 [==============================] - 1s 3ms/step - loss: 0.6913 - accuracy: 0.6605\n",
            "Epoch 2/50\n",
            "39/39 [==============================] - 0s 3ms/step - loss: 0.5657 - accuracy: 0.7409\n",
            "Epoch 3/50\n",
            "39/39 [==============================] - 0s 3ms/step - loss: 0.4595 - accuracy: 0.8890\n",
            "Epoch 4/50\n",
            "39/39 [==============================] - 0s 3ms/step - loss: 0.3653 - accuracy: 0.9517\n",
            "Epoch 5/50\n",
            "39/39 [==============================] - 0s 2ms/step - loss: 0.2823 - accuracy: 0.9590\n",
            "Epoch 6/50\n",
            "39/39 [==============================] - 0s 3ms/step - loss: 0.2226 - accuracy: 0.9558\n",
            "Epoch 7/50\n",
            "39/39 [==============================] - 0s 2ms/step - loss: 0.1831 - accuracy: 0.9558\n",
            "Epoch 8/50\n",
            "39/39 [==============================] - 0s 3ms/step - loss: 0.1594 - accuracy: 0.9558\n",
            "Epoch 9/50\n",
            "39/39 [==============================] - 0s 3ms/step - loss: 0.1447 - accuracy: 0.9558\n",
            "Epoch 10/50\n",
            "39/39 [==============================] - 0s 3ms/step - loss: 0.1361 - accuracy: 0.9558\n",
            "Epoch 11/50\n",
            "39/39 [==============================] - 0s 3ms/step - loss: 0.1297 - accuracy: 0.9533\n",
            "Epoch 12/50\n",
            "39/39 [==============================] - 0s 3ms/step - loss: 0.1254 - accuracy: 0.9517\n",
            "Epoch 13/50\n",
            "39/39 [==============================] - 0s 3ms/step - loss: 0.1231 - accuracy: 0.9533\n",
            "Epoch 14/50\n",
            "39/39 [==============================] - 0s 3ms/step - loss: 0.1205 - accuracy: 0.9517\n",
            "Epoch 15/50\n",
            "39/39 [==============================] - 0s 3ms/step - loss: 0.1199 - accuracy: 0.9533\n",
            "Epoch 16/50\n",
            "39/39 [==============================] - 0s 2ms/step - loss: 0.1179 - accuracy: 0.9517\n",
            "Epoch 17/50\n",
            "39/39 [==============================] - 0s 2ms/step - loss: 0.1168 - accuracy: 0.9517\n",
            "Epoch 18/50\n",
            "39/39 [==============================] - 0s 2ms/step - loss: 0.1171 - accuracy: 0.9525\n",
            "Epoch 19/50\n",
            "39/39 [==============================] - 0s 2ms/step - loss: 0.1156 - accuracy: 0.9517\n",
            "Epoch 20/50\n",
            "39/39 [==============================] - 0s 2ms/step - loss: 0.1150 - accuracy: 0.9517\n",
            "Epoch 21/50\n",
            "39/39 [==============================] - 0s 2ms/step - loss: 0.1149 - accuracy: 0.9525\n",
            "Epoch 22/50\n",
            "39/39 [==============================] - 0s 2ms/step - loss: 0.1142 - accuracy: 0.9525\n",
            "Epoch 23/50\n",
            "39/39 [==============================] - 0s 2ms/step - loss: 0.1141 - accuracy: 0.9517\n",
            "Epoch 24/50\n",
            "39/39 [==============================] - 0s 2ms/step - loss: 0.1135 - accuracy: 0.9517\n",
            "Epoch 25/50\n",
            "39/39 [==============================] - 0s 2ms/step - loss: 0.1136 - accuracy: 0.9517\n",
            "Epoch 26/50\n",
            "39/39 [==============================] - 0s 2ms/step - loss: 0.1132 - accuracy: 0.9517\n",
            "Epoch 27/50\n",
            "39/39 [==============================] - 0s 2ms/step - loss: 0.1124 - accuracy: 0.9517\n",
            "Epoch 28/50\n",
            "39/39 [==============================] - 0s 2ms/step - loss: 0.1122 - accuracy: 0.9517\n",
            "Epoch 29/50\n",
            "39/39 [==============================] - 0s 2ms/step - loss: 0.1114 - accuracy: 0.9517\n",
            "Epoch 30/50\n",
            "39/39 [==============================] - 0s 2ms/step - loss: 0.1117 - accuracy: 0.9517\n",
            "Epoch 31/50\n",
            "39/39 [==============================] - 0s 2ms/step - loss: 0.1116 - accuracy: 0.9517\n",
            "Epoch 32/50\n",
            "39/39 [==============================] - 0s 2ms/step - loss: 0.1117 - accuracy: 0.9525\n",
            "Epoch 33/50\n",
            "39/39 [==============================] - 0s 2ms/step - loss: 0.1112 - accuracy: 0.9517\n",
            "Epoch 34/50\n",
            "39/39 [==============================] - 0s 2ms/step - loss: 0.1105 - accuracy: 0.9517\n",
            "Epoch 35/50\n",
            "39/39 [==============================] - 0s 2ms/step - loss: 0.1103 - accuracy: 0.9517\n",
            "Epoch 36/50\n",
            "39/39 [==============================] - 0s 2ms/step - loss: 0.1098 - accuracy: 0.9517\n",
            "Epoch 37/50\n",
            "39/39 [==============================] - 0s 2ms/step - loss: 0.1096 - accuracy: 0.9517\n",
            "Epoch 38/50\n",
            "39/39 [==============================] - 0s 2ms/step - loss: 0.1095 - accuracy: 0.9517\n",
            "Epoch 39/50\n",
            "39/39 [==============================] - 0s 2ms/step - loss: 0.1097 - accuracy: 0.9517\n",
            "Epoch 40/50\n",
            "39/39 [==============================] - 0s 2ms/step - loss: 0.1087 - accuracy: 0.9517\n",
            "Epoch 41/50\n",
            "39/39 [==============================] - 0s 2ms/step - loss: 0.1090 - accuracy: 0.9517\n",
            "Epoch 42/50\n",
            "39/39 [==============================] - 0s 2ms/step - loss: 0.1079 - accuracy: 0.9517\n",
            "Epoch 43/50\n",
            "39/39 [==============================] - 0s 2ms/step - loss: 0.1082 - accuracy: 0.9517\n",
            "Epoch 44/50\n",
            "39/39 [==============================] - 0s 2ms/step - loss: 0.1080 - accuracy: 0.9517\n",
            "Epoch 45/50\n",
            "39/39 [==============================] - 0s 2ms/step - loss: 0.1073 - accuracy: 0.9517\n",
            "Epoch 46/50\n",
            "39/39 [==============================] - 0s 2ms/step - loss: 0.1069 - accuracy: 0.9517\n",
            "Epoch 47/50\n",
            "39/39 [==============================] - 0s 2ms/step - loss: 0.1070 - accuracy: 0.9517\n",
            "Epoch 48/50\n",
            "39/39 [==============================] - 0s 2ms/step - loss: 0.1067 - accuracy: 0.9533\n",
            "Epoch 49/50\n",
            "39/39 [==============================] - 0s 2ms/step - loss: 0.1066 - accuracy: 0.9517\n",
            "Epoch 50/50\n",
            "39/39 [==============================] - 0s 2ms/step - loss: 0.1069 - accuracy: 0.9517\n"
          ]
        },
        {
          "data": {
            "text/plain": [
              "<keras.callbacks.History at 0x11dc1e9eda0>"
            ]
          },
          "execution_count": 16,
          "metadata": {},
          "output_type": "execute_result"
        }
      ],
      "source": [
        "model.fit(X_train, y_train, epochs=50)\n"
      ]
    },
    {
      "cell_type": "code",
      "execution_count": 17,
      "metadata": {
        "colab": {
          "base_uri": "https://localhost:8080/"
        },
        "id": "DjDiT-NlzaSO",
        "outputId": "fa3ac30a-8fee-42fe-af78-7c949b2c6c74"
      },
      "outputs": [
        {
          "name": "stdout",
          "output_type": "stream",
          "text": [
            "10/10 [==============================] - 0s 2ms/step - loss: 0.1072 - accuracy: 0.9550\n"
          ]
        }
      ],
      "source": [
        "loss, accuracy =model.evaluate(X_test, y_test)\n"
      ]
    },
    {
      "cell_type": "code",
      "execution_count": 18,
      "metadata": {
        "colab": {
          "base_uri": "https://localhost:8080/"
        },
        "id": "tz9bvd6l0fxy",
        "outputId": "ef127bf9-880b-4473-eef2-d7bb3657cf6b"
      },
      "outputs": [
        {
          "data": {
            "text/plain": [
              "0.10720830410718918"
            ]
          },
          "execution_count": 18,
          "metadata": {},
          "output_type": "execute_result"
        }
      ],
      "source": [
        "loss"
      ]
    },
    {
      "cell_type": "code",
      "execution_count": 19,
      "metadata": {
        "colab": {
          "base_uri": "https://localhost:8080/"
        },
        "id": "UKq0suNY0hF3",
        "outputId": "e26156cb-92de-4673-da23-af698869f75d"
      },
      "outputs": [
        {
          "data": {
            "text/plain": [
              "0.9549839496612549"
            ]
          },
          "execution_count": 19,
          "metadata": {},
          "output_type": "execute_result"
        }
      ],
      "source": [
        "accuracy"
      ]
    },
    {
      "cell_type": "code",
      "execution_count": 20,
      "metadata": {
        "colab": {
          "base_uri": "https://localhost:8080/"
        },
        "id": "ugyZh1S7ze0W",
        "outputId": "8bd49e83-d88b-467d-a632-aa0b12dc100e"
      },
      "outputs": [
        {
          "name": "stdout",
          "output_type": "stream",
          "text": [
            "Model: \"sequential\"\n",
            "_________________________________________________________________\n",
            " Layer (type)                Output Shape              Param #   \n",
            "=================================================================\n",
            " dense (Dense)               (None, 10)                30        \n",
            "                                                                 \n",
            " dense_1 (Dense)             (None, 10)                110       \n",
            "                                                                 \n",
            " dense_2 (Dense)             (None, 2)                 22        \n",
            "                                                                 \n",
            "=================================================================\n",
            "Total params: 162\n",
            "Trainable params: 162\n",
            "Non-trainable params: 0\n",
            "_________________________________________________________________\n"
          ]
        }
      ],
      "source": [
        "model.summary()\n"
      ]
    },
    {
      "cell_type": "code",
      "execution_count": 21,
      "metadata": {
        "colab": {
          "base_uri": "https://localhost:8080/"
        },
        "id": "PelMe-Vn0RZ7",
        "outputId": "b7b8a9e8-e65e-433b-e47b-b16c4e546ad7"
      },
      "outputs": [
        {
          "name": "stdout",
          "output_type": "stream",
          "text": [
            "1/1 [==============================] - 0s 105ms/step\n"
          ]
        },
        {
          "data": {
            "text/plain": [
              "array([0.61663115], dtype=float32)"
            ]
          },
          "execution_count": 21,
          "metadata": {},
          "output_type": "execute_result"
        }
      ],
      "source": [
        " prediction1 = model.predict(sc.transform(np.array([[42,50000]])))[:,1]\n",
        " prediction1"
      ]
    },
    {
      "cell_type": "code",
      "execution_count": 22,
      "metadata": {
        "colab": {
          "base_uri": "https://localhost:8080/"
        },
        "id": "d2TKXeUx1JgU",
        "outputId": "6e2feeae-9f39-4745-bb6c-21945a9ec0d7"
      },
      "outputs": [
        {
          "name": "stdout",
          "output_type": "stream",
          "text": [
            "1/1 [==============================] - 0s 30ms/step\n"
          ]
        },
        {
          "data": {
            "text/plain": [
              "array([0.01155521], dtype=float32)"
            ]
          },
          "execution_count": 22,
          "metadata": {},
          "output_type": "execute_result"
        }
      ],
      "source": [
        "predict2 = model.predict(sc.transform(np.array([[20,40000]])))[:,1]\n",
        "predict2"
      ]
    },
    {
      "cell_type": "code",
      "execution_count": 23,
      "metadata": {
        "colab": {
          "base_uri": "https://localhost:8080/"
        },
        "id": "ItRgLbOh1QD-",
        "outputId": "aad712a8-e471-401c-c8ad-178e691cc3b6"
      },
      "outputs": [
        {
          "name": "stderr",
          "output_type": "stream",
          "text": [
            "WARNING:absl:Found untraced functions such as _update_step_xla while saving (showing 1 of 1). These functions will not be directly callable after loading.\n"
          ]
        },
        {
          "name": "stdout",
          "output_type": "stream",
          "text": [
            "INFO:tensorflow:Assets written to: customer_behavior_model/2\\assets\n"
          ]
        },
        {
          "name": "stderr",
          "output_type": "stream",
          "text": [
            "INFO:tensorflow:Assets written to: customer_behavior_model/2\\assets\n"
          ]
        }
      ],
      "source": [
        "model.save('customer_behavior_model/2')\n"
      ]
    },
    {
      "cell_type": "code",
      "execution_count": 25,
      "metadata": {
        "colab": {
          "base_uri": "https://localhost:8080/"
        },
        "id": "pwUt_LN52ac9",
        "outputId": "de3b60bf-0e02-47ee-fb69-5926a218614b"
      },
      "outputs": [
        {
          "name": "stdout",
          "output_type": "stream",
          "text": [
            " Volume in drive C is Windows\n",
            " Volume Serial Number is 8640-FDD4\n",
            "\n",
            " Directory of c:\\Users\\soumy\\OneDrive\\Desktop\\ML deployment\\Tensorflow JS\\tfjs4\n",
            "\n",
            "01-08-2023  07:37    <DIR>          .\n",
            "31-07-2023  21:24    <DIR>          ..\n",
            "01-08-2023  07:37    <DIR>          customer_behavior_model\n",
            "31-07-2023  21:24               648 group1-shard1of1.bin\n",
            "31-07-2023  21:24             2,498 model.json\n",
            "31-07-2023  21:24            49,494 tf3_keras_age_salary_tfjs.ipynb\n",
            "31-07-2023  21:24             2,132 tf3_keras_age_salary_tfjs.py\n",
            "01-08-2023  07:31               762 tfjsdemo.html\n",
            "               5 File(s)         55,534 bytes\n",
            "               3 Dir(s)  109,030,436,864 bytes free\n"
          ]
        }
      ],
      "source": [
        "!ls"
      ]
    },
    {
      "cell_type": "code",
      "execution_count": 27,
      "metadata": {
        "colab": {
          "base_uri": "https://localhost:8080/"
        },
        "id": "6FTj_HA12cIq",
        "outputId": "ce4c2a9e-2649-4546-fa43-2f2390c7b5e3"
      },
      "outputs": [
        {
          "name": "stderr",
          "output_type": "stream",
          "text": [
            "Invalid switch - \"2\".\n"
          ]
        }
      ],
      "source": [
        "!ls customer_behavior_model/2"
      ]
    },
    {
      "cell_type": "code",
      "execution_count": 14,
      "metadata": {
        "id": "IXuMmkah2gYh"
      },
      "outputs": [],
      "source": [
        "from tensorflow.keras.models import load_model\n"
      ]
    },
    {
      "cell_type": "code",
      "execution_count": 15,
      "metadata": {
        "id": "RE6SV79J2lIc"
      },
      "outputs": [],
      "source": [
        "cust_model = load_model('customer_behavior_model/2/')"
      ]
    },
    {
      "cell_type": "code",
      "execution_count": 16,
      "metadata": {
        "colab": {
          "base_uri": "https://localhost:8080/"
        },
        "id": "yGpuDs2S2tLw",
        "outputId": "5843d7f3-a071-4b53-a712-592f4150bd06"
      },
      "outputs": [
        {
          "name": "stdout",
          "output_type": "stream",
          "text": [
            "1/1 [==============================] - 0s 227ms/step\n"
          ]
        },
        {
          "data": {
            "text/plain": [
              "array([0.61663115], dtype=float32)"
            ]
          },
          "execution_count": 16,
          "metadata": {},
          "output_type": "execute_result"
        }
      ],
      "source": [
        " prediction3 = cust_model.predict(sc.transform(np.array([[42,50000]])))[:,1]\n",
        " prediction3"
      ]
    },
    {
      "cell_type": "code",
      "execution_count": 13,
      "metadata": {
        "colab": {
          "base_uri": "https://localhost:8080/"
        },
        "id": "BTvXQ14F20QE",
        "outputId": "3493f69f-6588-4708-f4fd-17ea368fef32"
      },
      "outputs": [
        {
          "ename": "NameError",
          "evalue": "name 'model' is not defined",
          "output_type": "error",
          "traceback": [
            "\u001b[1;31m---------------------------------------------------------------------------\u001b[0m",
            "\u001b[1;31mNameError\u001b[0m                                 Traceback (most recent call last)",
            "\u001b[1;32mc:\\Users\\soumy\\OneDrive\\Desktop\\ML deployment\\Tensorflow JS\\tfjs4\\tf3_keras_age_salary_tfjs.ipynb Cell 23\u001b[0m in \u001b[0;36m<cell line: 1>\u001b[1;34m()\u001b[0m\n\u001b[1;32m----> <a href='vscode-notebook-cell:/c%3A/Users/soumy/OneDrive/Desktop/ML%20deployment/Tensorflow%20JS/tfjs4/tf3_keras_age_salary_tfjs.ipynb#X31sZmlsZQ%3D%3D?line=0'>1</a>\u001b[0m predict4 \u001b[39m=\u001b[39m model\u001b[39m.\u001b[39mpredict(sc\u001b[39m.\u001b[39mtransform(np\u001b[39m.\u001b[39marray([[\u001b[39m20\u001b[39m,\u001b[39m40000\u001b[39m]])))[:,\u001b[39m1\u001b[39m]\n\u001b[0;32m      <a href='vscode-notebook-cell:/c%3A/Users/soumy/OneDrive/Desktop/ML%20deployment/Tensorflow%20JS/tfjs4/tf3_keras_age_salary_tfjs.ipynb#X31sZmlsZQ%3D%3D?line=1'>2</a>\u001b[0m predict4\n",
            "\u001b[1;31mNameError\u001b[0m: name 'model' is not defined"
          ]
        }
      ],
      "source": [
        "predict4 = model.predict(sc.transform(np.array([[20,40000]])))[:,1]\n",
        "predict4"
      ]
    },
    {
      "cell_type": "code",
      "execution_count": 32,
      "metadata": {
        "colab": {
          "base_uri": "https://localhost:8080/"
        },
        "id": "O7yKcxubjK3k",
        "outputId": "4b3e2325-393f-4153-e9c5-ff06a1d889b7"
      },
      "outputs": [
        {
          "data": {
            "text/plain": [
              "array([[-1.40863043, -0.81755432]])"
            ]
          },
          "execution_count": 32,
          "metadata": {},
          "output_type": "execute_result"
        }
      ],
      "source": [
        "sc.transform(np.array([[20,40000]]))"
      ]
    },
    {
      "cell_type": "code",
      "execution_count": 33,
      "metadata": {
        "colab": {
          "base_uri": "https://localhost:8080/"
        },
        "id": "xIjsno1cnVo_",
        "outputId": "17d339d2-2c88-4cf5-d752-9acaa1e94806"
      },
      "outputs": [
        {
          "data": {
            "text/plain": [
              "array([[-0.15065689, -0.34524533]])"
            ]
          },
          "execution_count": 33,
          "metadata": {},
          "output_type": "execute_result"
        }
      ],
      "source": [
        "sc.transform(np.array([[42,50000]]))"
      ]
    },
    {
      "cell_type": "code",
      "execution_count": null,
      "metadata": {
        "colab": {
          "base_uri": "https://localhost:8080/"
        },
        "id": "r36eonXT24Di",
        "outputId": "5119b096-b635-455f-bc02-a3472d602347"
      },
      "outputs": [
        {
          "name": "stdout",
          "output_type": "stream",
          "text": [
            "customer_behavior_model  sample_data\n"
          ]
        }
      ],
      "source": [
        "!ls"
      ]
    },
    {
      "cell_type": "code",
      "execution_count": null,
      "metadata": {
        "colab": {
          "base_uri": "https://localhost:8080/"
        },
        "id": "no_ki8mDXUcB",
        "outputId": "ccd152c3-22a7-4c7a-89ab-830a109bab62"
      },
      "outputs": [
        {
          "name": "stdout",
          "output_type": "stream",
          "text": [
            "  adding: customer_behavior_model/ (stored 0%)\n",
            "  adding: customer_behavior_model/1/ (stored 0%)\n",
            "  adding: customer_behavior_model/1/assets/ (stored 0%)\n",
            "  adding: customer_behavior_model/1/variables/ (stored 0%)\n",
            "  adding: customer_behavior_model/1/variables/variables.data-00000-of-00001 (deflated 55%)\n",
            "  adding: customer_behavior_model/1/variables/variables.index (deflated 64%)\n",
            "  adding: customer_behavior_model/1/saved_model.pb (deflated 88%)\n"
          ]
        }
      ],
      "source": [
        "!zip -r customermodel.zip customer_behavior_model  "
      ]
    },
    {
      "cell_type": "code",
      "execution_count": null,
      "metadata": {
        "colab": {
          "base_uri": "https://localhost:8080/"
        },
        "id": "df_N49lcXaGt",
        "outputId": "99ec2724-4e2b-4527-a0d7-d385cf68b24a"
      },
      "outputs": [
        {
          "name": "stdout",
          "output_type": "stream",
          "text": [
            "customer_behavior_model  customermodel.zip  sample_data\n"
          ]
        }
      ],
      "source": [
        "!ls\n"
      ]
    },
    {
      "cell_type": "code",
      "execution_count": null,
      "metadata": {
        "id": "abcMEBptXa_f"
      },
      "outputs": [],
      "source": [
        "from google.colab import files\n"
      ]
    },
    {
      "cell_type": "code",
      "execution_count": null,
      "metadata": {
        "colab": {
          "base_uri": "https://localhost:8080/"
        },
        "id": "KxjYqRywXeFh",
        "outputId": "970a164d-e184-4eba-b102-adf5a3ac88a4"
      },
      "outputs": [],
      "source": [
        "!pip install tensorflowjs"
      ]
    },
    {
      "cell_type": "code",
      "execution_count": 2,
      "metadata": {
        "id": "W2brrCcpQVZU"
      },
      "outputs": [],
      "source": [
        "import tensorflowjs as tfjs\n"
      ]
    },
    {
      "cell_type": "code",
      "execution_count": 18,
      "metadata": {
        "colab": {
          "base_uri": "https://localhost:8080/"
        },
        "id": "Kuisj7cHQByS",
        "outputId": "6c64e540-b3e4-4786-e4dd-ee9670bff374"
      },
      "outputs": [],
      "source": [
        "tfjs.converters.save_keras_model(cust_model, \"/content/\")"
      ]
    },
    {
      "cell_type": "code",
      "execution_count": 21,
      "metadata": {},
      "outputs": [],
      "source": [
        "tfjs.converters.save_keras_model(cust_model,'new_model')"
      ]
    },
    {
      "cell_type": "code",
      "execution_count": 19,
      "metadata": {},
      "outputs": [
        {
          "data": {
            "text/plain": [
              "'c:\\\\Users\\\\soumy\\\\OneDrive\\\\Desktop\\\\ML deployment\\\\Tensorflow JS\\\\tfjs4'"
            ]
          },
          "execution_count": 19,
          "metadata": {},
          "output_type": "execute_result"
        }
      ],
      "source": [
        "pwd"
      ]
    },
    {
      "cell_type": "code",
      "execution_count": 43,
      "metadata": {
        "colab": {
          "base_uri": "https://localhost:8080/"
        },
        "id": "llnhtCg9QQ3B",
        "outputId": "b77482ac-bb63-4d9d-cbf8-9afa4ef1f5a2"
      },
      "outputs": [
        {
          "name": "stdout",
          "output_type": "stream",
          "text": [
            "customer_behavior_model  group1-shard1of1.bin  sample_data\n",
            "customermodel.zip\t model.json\n"
          ]
        }
      ],
      "source": [
        "!ls"
      ]
    },
    {
      "cell_type": "code",
      "execution_count": 44,
      "metadata": {
        "colab": {
          "base_uri": "https://localhost:8080/"
        },
        "id": "OGuVUJR-Qbk3",
        "outputId": "ec1ae03e-368b-4cc3-c781-67c1d7be63a7"
      },
      "outputs": [
        {
          "name": "stdout",
          "output_type": "stream",
          "text": [
            "{\"format\": \"layers-model\", \"generatedBy\": \"keras v2.4.0\", \"convertedBy\": \"TensorFlow.js Converter v2.7.0\", \"modelTopology\": {\"keras_version\": \"2.4.0\", \"backend\": \"tensorflow\", \"model_config\": {\"class_name\": \"Sequential\", \"config\": {\"name\": \"sequential\", \"layers\": [{\"class_name\": \"InputLayer\", \"config\": {\"batch_input_shape\": [null, 2], \"dtype\": \"float32\", \"sparse\": false, \"ragged\": false, \"name\": \"dense_input\"}}, {\"class_name\": \"Dense\", \"config\": {\"name\": \"dense\", \"trainable\": true, \"dtype\": \"float32\", \"units\": 10, \"activation\": \"relu\", \"use_bias\": true, \"kernel_initializer\": {\"class_name\": \"GlorotUniform\", \"config\": {\"seed\": null}}, \"bias_initializer\": {\"class_name\": \"Zeros\", \"config\": {}}, \"kernel_regularizer\": null, \"bias_regularizer\": null, \"activity_regularizer\": null, \"kernel_constraint\": null, \"bias_constraint\": null}}, {\"class_name\": \"Dense\", \"config\": {\"name\": \"dense_1\", \"trainable\": true, \"dtype\": \"float32\", \"units\": 10, \"activation\": \"relu\", \"use_bias\": true, \"kernel_initializer\": {\"class_name\": \"GlorotUniform\", \"config\": {\"seed\": null}}, \"bias_initializer\": {\"class_name\": \"Zeros\", \"config\": {}}, \"kernel_regularizer\": null, \"bias_regularizer\": null, \"activity_regularizer\": null, \"kernel_constraint\": null, \"bias_constraint\": null}}, {\"class_name\": \"Dense\", \"config\": {\"name\": \"dense_2\", \"trainable\": true, \"dtype\": \"float32\", \"units\": 2, \"activation\": \"softmax\", \"use_bias\": true, \"kernel_initializer\": {\"class_name\": \"GlorotUniform\", \"config\": {\"seed\": null}}, \"bias_initializer\": {\"class_name\": \"Zeros\", \"config\": {}}, \"kernel_regularizer\": null, \"bias_regularizer\": null, \"activity_regularizer\": null, \"kernel_constraint\": null, \"bias_constraint\": null}}]}}, \"training_config\": {\"loss\": \"sparse_categorical_crossentropy\", \"metrics\": [\"accuracy\"], \"weighted_metrics\": null, \"loss_weights\": null, \"optimizer_config\": {\"class_name\": \"Adam\", \"config\": {\"name\": \"Adam\", \"learning_rate\": 0.0010000000474974513, \"decay\": 0.0, \"beta_1\": 0.8999999761581421, \"beta_2\": 0.9990000128746033, \"epsilon\": 1e-07, \"amsgrad\": false}}}}, \"weightsManifest\": [{\"paths\": [\"group1-shard1of1.bin\"], \"weights\": [{\"name\": \"dense/kernel\", \"shape\": [2, 10], \"dtype\": \"float32\"}, {\"name\": \"dense/bias\", \"shape\": [10], \"dtype\": \"float32\"}, {\"name\": \"dense_1/kernel\", \"shape\": [10, 10], \"dtype\": \"float32\"}, {\"name\": \"dense_1/bias\", \"shape\": [10], \"dtype\": \"float32\"}, {\"name\": \"dense_2/kernel\", \"shape\": [10, 2], \"dtype\": \"float32\"}, {\"name\": \"dense_2/bias\", \"shape\": [2], \"dtype\": \"float32\"}]}]}"
          ]
        }
      ],
      "source": [
        "!cat model.json"
      ]
    },
    {
      "cell_type": "code",
      "execution_count": 45,
      "metadata": {
        "id": "YpNVnh5bQkAG"
      },
      "outputs": [],
      "source": [
        "from google.colab import files\n"
      ]
    },
    {
      "cell_type": "code",
      "execution_count": 46,
      "metadata": {
        "colab": {
          "base_uri": "https://localhost:8080/",
          "height": 17
        },
        "id": "rJxeGMBGRIBL",
        "outputId": "7973ab2e-9327-475b-ce24-84234f708a35"
      },
      "outputs": [
        {
          "data": {
            "application/javascript": "\n    async function download(id, filename, size) {\n      if (!google.colab.kernel.accessAllowed) {\n        return;\n      }\n      const div = document.createElement('div');\n      const label = document.createElement('label');\n      label.textContent = `Downloading \"${filename}\": `;\n      div.appendChild(label);\n      const progress = document.createElement('progress');\n      progress.max = size;\n      div.appendChild(progress);\n      document.body.appendChild(div);\n\n      const buffers = [];\n      let downloaded = 0;\n\n      const channel = await google.colab.kernel.comms.open(id);\n      // Send a message to notify the kernel that we're ready.\n      channel.send({})\n\n      for await (const message of channel.messages) {\n        // Send a message to notify the kernel that we're ready.\n        channel.send({})\n        if (message.buffers) {\n          for (const buffer of message.buffers) {\n            buffers.push(buffer);\n            downloaded += buffer.byteLength;\n            progress.value = downloaded;\n          }\n        }\n      }\n      const blob = new Blob(buffers, {type: 'application/binary'});\n      const a = document.createElement('a');\n      a.href = window.URL.createObjectURL(blob);\n      a.download = filename;\n      div.appendChild(a);\n      a.click();\n      div.remove();\n    }\n  ",
            "text/plain": [
              "<IPython.core.display.Javascript object>"
            ]
          },
          "metadata": {
            "tags": []
          },
          "output_type": "display_data"
        },
        {
          "data": {
            "application/javascript": "download(\"download_f2707ff4-1da8-4e22-8016-466f1f47da29\", \"model.json\", 2498)",
            "text/plain": [
              "<IPython.core.display.Javascript object>"
            ]
          },
          "metadata": {
            "tags": []
          },
          "output_type": "display_data"
        }
      ],
      "source": [
        "files.download('model.json')"
      ]
    },
    {
      "cell_type": "code",
      "execution_count": 47,
      "metadata": {
        "colab": {
          "base_uri": "https://localhost:8080/"
        },
        "id": "Ggu_qds2ROWt",
        "outputId": "7fac999d-8562-4773-9f68-51c40dff1330"
      },
      "outputs": [
        {
          "name": "stdout",
          "output_type": "stream",
          "text": [
            "customer_behavior_model  group1-shard1of1.bin  sample_data\n",
            "customermodel.zip\t model.json\n"
          ]
        }
      ],
      "source": [
        "!ls"
      ]
    },
    {
      "cell_type": "code",
      "execution_count": 48,
      "metadata": {
        "colab": {
          "base_uri": "https://localhost:8080/",
          "height": 17
        },
        "id": "ngqSnwrVmm_w",
        "outputId": "f1083908-684b-40f5-d296-e0699392abd1"
      },
      "outputs": [
        {
          "data": {
            "application/javascript": "\n    async function download(id, filename, size) {\n      if (!google.colab.kernel.accessAllowed) {\n        return;\n      }\n      const div = document.createElement('div');\n      const label = document.createElement('label');\n      label.textContent = `Downloading \"${filename}\": `;\n      div.appendChild(label);\n      const progress = document.createElement('progress');\n      progress.max = size;\n      div.appendChild(progress);\n      document.body.appendChild(div);\n\n      const buffers = [];\n      let downloaded = 0;\n\n      const channel = await google.colab.kernel.comms.open(id);\n      // Send a message to notify the kernel that we're ready.\n      channel.send({})\n\n      for await (const message of channel.messages) {\n        // Send a message to notify the kernel that we're ready.\n        channel.send({})\n        if (message.buffers) {\n          for (const buffer of message.buffers) {\n            buffers.push(buffer);\n            downloaded += buffer.byteLength;\n            progress.value = downloaded;\n          }\n        }\n      }\n      const blob = new Blob(buffers, {type: 'application/binary'});\n      const a = document.createElement('a');\n      a.href = window.URL.createObjectURL(blob);\n      a.download = filename;\n      div.appendChild(a);\n      a.click();\n      div.remove();\n    }\n  ",
            "text/plain": [
              "<IPython.core.display.Javascript object>"
            ]
          },
          "metadata": {
            "tags": []
          },
          "output_type": "display_data"
        },
        {
          "data": {
            "application/javascript": "download(\"download_36109e81-aebb-4da4-9299-ec0a16734675\", \"group1-shard1of1.bin\", 648)",
            "text/plain": [
              "<IPython.core.display.Javascript object>"
            ]
          },
          "metadata": {
            "tags": []
          },
          "output_type": "display_data"
        }
      ],
      "source": [
        "files.download('group1-shard1of1.bin')"
      ]
    },
    {
      "cell_type": "code",
      "execution_count": null,
      "metadata": {
        "id": "7Ac33aKomrVX"
      },
      "outputs": [],
      "source": []
    }
  ],
  "metadata": {
    "colab": {
      "collapsed_sections": [],
      "name": "tf3_keras_age_salary_tfjs.ipynb",
      "provenance": []
    },
    "kernelspec": {
      "display_name": "Python 3",
      "name": "python3"
    },
    "language_info": {
      "codemirror_mode": {
        "name": "ipython",
        "version": 3
      },
      "file_extension": ".py",
      "mimetype": "text/x-python",
      "name": "python",
      "nbconvert_exporter": "python",
      "pygments_lexer": "ipython3",
      "version": "3.10.5"
    }
  },
  "nbformat": 4,
  "nbformat_minor": 0
}
