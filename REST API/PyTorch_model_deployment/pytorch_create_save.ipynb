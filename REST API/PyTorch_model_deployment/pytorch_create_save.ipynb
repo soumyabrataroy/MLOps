{
  "nbformat": 4,
  "nbformat_minor": 0,
  "metadata": {
    "colab": {
      "provenance": []
    },
    "kernelspec": {
      "name": "python3",
      "display_name": "Python 3"
    }
  },
  "cells": [
    {
      "cell_type": "code",
      "metadata": {
        "id": "tSidl29aiT2W"
      },
      "source": [
        "import torch\n",
        "import torch.nn as nn\n",
        "from torch.nn import functional as F\n",
        "\n",
        "import pandas as pd\n",
        "import numpy as np"
      ],
      "execution_count": 1,
      "outputs": []
    },
    {
      "cell_type": "code",
      "metadata": {
        "id": "z1YFLFLgii4H"
      },
      "source": [
        "dataset = pd.read_csv('https://raw.githubusercontent.com/futurexskill/ml-model-deployment/main/storepurchasedata_large.csv')"
      ],
      "execution_count": 2,
      "outputs": []
    },
    {
      "cell_type": "code",
      "metadata": {
        "id": "hWHnGlrrinev",
        "outputId": "97b242f9-4ff1-48f5-e3d5-aafe05f13587",
        "colab": {
          "base_uri": "https://localhost:8080/",
          "height": 300
        }
      },
      "source": [
        "dataset.describe()"
      ],
      "execution_count": 3,
      "outputs": [
        {
          "output_type": "execute_result",
          "data": {
            "text/plain": [
              "               Age        Salary    Purchased\n",
              "count  1554.000000   1554.000000  1554.000000\n",
              "mean     44.296010  57042.471042     0.694981\n",
              "std      17.462458  21209.244800     0.460564\n",
              "min      18.000000  20000.000000     0.000000\n",
              "25%      27.000000  46000.000000     0.000000\n",
              "50%      43.000000  60000.000000     1.000000\n",
              "75%      62.000000  66000.000000     1.000000\n",
              "max      69.000000  96000.000000     1.000000"
            ],
            "text/html": [
              "\n",
              "\n",
              "  <div id=\"df-8b8faa77-928b-41a1-96d9-e17076a011fc\">\n",
              "    <div class=\"colab-df-container\">\n",
              "      <div>\n",
              "<style scoped>\n",
              "    .dataframe tbody tr th:only-of-type {\n",
              "        vertical-align: middle;\n",
              "    }\n",
              "\n",
              "    .dataframe tbody tr th {\n",
              "        vertical-align: top;\n",
              "    }\n",
              "\n",
              "    .dataframe thead th {\n",
              "        text-align: right;\n",
              "    }\n",
              "</style>\n",
              "<table border=\"1\" class=\"dataframe\">\n",
              "  <thead>\n",
              "    <tr style=\"text-align: right;\">\n",
              "      <th></th>\n",
              "      <th>Age</th>\n",
              "      <th>Salary</th>\n",
              "      <th>Purchased</th>\n",
              "    </tr>\n",
              "  </thead>\n",
              "  <tbody>\n",
              "    <tr>\n",
              "      <th>count</th>\n",
              "      <td>1554.000000</td>\n",
              "      <td>1554.000000</td>\n",
              "      <td>1554.000000</td>\n",
              "    </tr>\n",
              "    <tr>\n",
              "      <th>mean</th>\n",
              "      <td>44.296010</td>\n",
              "      <td>57042.471042</td>\n",
              "      <td>0.694981</td>\n",
              "    </tr>\n",
              "    <tr>\n",
              "      <th>std</th>\n",
              "      <td>17.462458</td>\n",
              "      <td>21209.244800</td>\n",
              "      <td>0.460564</td>\n",
              "    </tr>\n",
              "    <tr>\n",
              "      <th>min</th>\n",
              "      <td>18.000000</td>\n",
              "      <td>20000.000000</td>\n",
              "      <td>0.000000</td>\n",
              "    </tr>\n",
              "    <tr>\n",
              "      <th>25%</th>\n",
              "      <td>27.000000</td>\n",
              "      <td>46000.000000</td>\n",
              "      <td>0.000000</td>\n",
              "    </tr>\n",
              "    <tr>\n",
              "      <th>50%</th>\n",
              "      <td>43.000000</td>\n",
              "      <td>60000.000000</td>\n",
              "      <td>1.000000</td>\n",
              "    </tr>\n",
              "    <tr>\n",
              "      <th>75%</th>\n",
              "      <td>62.000000</td>\n",
              "      <td>66000.000000</td>\n",
              "      <td>1.000000</td>\n",
              "    </tr>\n",
              "    <tr>\n",
              "      <th>max</th>\n",
              "      <td>69.000000</td>\n",
              "      <td>96000.000000</td>\n",
              "      <td>1.000000</td>\n",
              "    </tr>\n",
              "  </tbody>\n",
              "</table>\n",
              "</div>\n",
              "      <button class=\"colab-df-convert\" onclick=\"convertToInteractive('df-8b8faa77-928b-41a1-96d9-e17076a011fc')\"\n",
              "              title=\"Convert this dataframe to an interactive table.\"\n",
              "              style=\"display:none;\">\n",
              "\n",
              "  <svg xmlns=\"http://www.w3.org/2000/svg\" height=\"24px\"viewBox=\"0 0 24 24\"\n",
              "       width=\"24px\">\n",
              "    <path d=\"M0 0h24v24H0V0z\" fill=\"none\"/>\n",
              "    <path d=\"M18.56 5.44l.94 2.06.94-2.06 2.06-.94-2.06-.94-.94-2.06-.94 2.06-2.06.94zm-11 1L8.5 8.5l.94-2.06 2.06-.94-2.06-.94L8.5 2.5l-.94 2.06-2.06.94zm10 10l.94 2.06.94-2.06 2.06-.94-2.06-.94-.94-2.06-.94 2.06-2.06.94z\"/><path d=\"M17.41 7.96l-1.37-1.37c-.4-.4-.92-.59-1.43-.59-.52 0-1.04.2-1.43.59L10.3 9.45l-7.72 7.72c-.78.78-.78 2.05 0 2.83L4 21.41c.39.39.9.59 1.41.59.51 0 1.02-.2 1.41-.59l7.78-7.78 2.81-2.81c.8-.78.8-2.07 0-2.86zM5.41 20L4 18.59l7.72-7.72 1.47 1.35L5.41 20z\"/>\n",
              "  </svg>\n",
              "      </button>\n",
              "\n",
              "\n",
              "\n",
              "    <div id=\"df-18e3e46e-7080-470a-9b0c-e1bf6f6bc1c5\">\n",
              "      <button class=\"colab-df-quickchart\" onclick=\"quickchart('df-18e3e46e-7080-470a-9b0c-e1bf6f6bc1c5')\"\n",
              "              title=\"Suggest charts.\"\n",
              "              style=\"display:none;\">\n",
              "\n",
              "<svg xmlns=\"http://www.w3.org/2000/svg\" height=\"24px\"viewBox=\"0 0 24 24\"\n",
              "     width=\"24px\">\n",
              "    <g>\n",
              "        <path d=\"M19 3H5c-1.1 0-2 .9-2 2v14c0 1.1.9 2 2 2h14c1.1 0 2-.9 2-2V5c0-1.1-.9-2-2-2zM9 17H7v-7h2v7zm4 0h-2V7h2v10zm4 0h-2v-4h2v4z\"/>\n",
              "    </g>\n",
              "</svg>\n",
              "      </button>\n",
              "    </div>\n",
              "\n",
              "<style>\n",
              "  .colab-df-quickchart {\n",
              "    background-color: #E8F0FE;\n",
              "    border: none;\n",
              "    border-radius: 50%;\n",
              "    cursor: pointer;\n",
              "    display: none;\n",
              "    fill: #1967D2;\n",
              "    height: 32px;\n",
              "    padding: 0 0 0 0;\n",
              "    width: 32px;\n",
              "  }\n",
              "\n",
              "  .colab-df-quickchart:hover {\n",
              "    background-color: #E2EBFA;\n",
              "    box-shadow: 0px 1px 2px rgba(60, 64, 67, 0.3), 0px 1px 3px 1px rgba(60, 64, 67, 0.15);\n",
              "    fill: #174EA6;\n",
              "  }\n",
              "\n",
              "  [theme=dark] .colab-df-quickchart {\n",
              "    background-color: #3B4455;\n",
              "    fill: #D2E3FC;\n",
              "  }\n",
              "\n",
              "  [theme=dark] .colab-df-quickchart:hover {\n",
              "    background-color: #434B5C;\n",
              "    box-shadow: 0px 1px 3px 1px rgba(0, 0, 0, 0.15);\n",
              "    filter: drop-shadow(0px 1px 2px rgba(0, 0, 0, 0.3));\n",
              "    fill: #FFFFFF;\n",
              "  }\n",
              "</style>\n",
              "\n",
              "    <script>\n",
              "      async function quickchart(key) {\n",
              "        const containerElement = document.querySelector('#' + key);\n",
              "        const charts = await google.colab.kernel.invokeFunction(\n",
              "            'suggestCharts', [key], {});\n",
              "      }\n",
              "    </script>\n",
              "\n",
              "      <script>\n",
              "\n",
              "function displayQuickchartButton(domScope) {\n",
              "  let quickchartButtonEl =\n",
              "    domScope.querySelector('#df-18e3e46e-7080-470a-9b0c-e1bf6f6bc1c5 button.colab-df-quickchart');\n",
              "  quickchartButtonEl.style.display =\n",
              "    google.colab.kernel.accessAllowed ? 'block' : 'none';\n",
              "}\n",
              "\n",
              "        displayQuickchartButton(document);\n",
              "      </script>\n",
              "      <style>\n",
              "    .colab-df-container {\n",
              "      display:flex;\n",
              "      flex-wrap:wrap;\n",
              "      gap: 12px;\n",
              "    }\n",
              "\n",
              "    .colab-df-convert {\n",
              "      background-color: #E8F0FE;\n",
              "      border: none;\n",
              "      border-radius: 50%;\n",
              "      cursor: pointer;\n",
              "      display: none;\n",
              "      fill: #1967D2;\n",
              "      height: 32px;\n",
              "      padding: 0 0 0 0;\n",
              "      width: 32px;\n",
              "    }\n",
              "\n",
              "    .colab-df-convert:hover {\n",
              "      background-color: #E2EBFA;\n",
              "      box-shadow: 0px 1px 2px rgba(60, 64, 67, 0.3), 0px 1px 3px 1px rgba(60, 64, 67, 0.15);\n",
              "      fill: #174EA6;\n",
              "    }\n",
              "\n",
              "    [theme=dark] .colab-df-convert {\n",
              "      background-color: #3B4455;\n",
              "      fill: #D2E3FC;\n",
              "    }\n",
              "\n",
              "    [theme=dark] .colab-df-convert:hover {\n",
              "      background-color: #434B5C;\n",
              "      box-shadow: 0px 1px 3px 1px rgba(0, 0, 0, 0.15);\n",
              "      filter: drop-shadow(0px 1px 2px rgba(0, 0, 0, 0.3));\n",
              "      fill: #FFFFFF;\n",
              "    }\n",
              "  </style>\n",
              "\n",
              "      <script>\n",
              "        const buttonEl =\n",
              "          document.querySelector('#df-8b8faa77-928b-41a1-96d9-e17076a011fc button.colab-df-convert');\n",
              "        buttonEl.style.display =\n",
              "          google.colab.kernel.accessAllowed ? 'block' : 'none';\n",
              "\n",
              "        async function convertToInteractive(key) {\n",
              "          const element = document.querySelector('#df-8b8faa77-928b-41a1-96d9-e17076a011fc');\n",
              "          const dataTable =\n",
              "            await google.colab.kernel.invokeFunction('convertToInteractive',\n",
              "                                                     [key], {});\n",
              "          if (!dataTable) return;\n",
              "\n",
              "          const docLinkHtml = 'Like what you see? Visit the ' +\n",
              "            '<a target=\"_blank\" href=https://colab.research.google.com/notebooks/data_table.ipynb>data table notebook</a>'\n",
              "            + ' to learn more about interactive tables.';\n",
              "          element.innerHTML = '';\n",
              "          dataTable['output_type'] = 'display_data';\n",
              "          await google.colab.output.renderOutput(dataTable, element);\n",
              "          const docLink = document.createElement('div');\n",
              "          docLink.innerHTML = docLinkHtml;\n",
              "          element.appendChild(docLink);\n",
              "        }\n",
              "      </script>\n",
              "    </div>\n",
              "  </div>\n"
            ]
          },
          "metadata": {},
          "execution_count": 3
        }
      ]
    },
    {
      "cell_type": "code",
      "metadata": {
        "id": "8wRc98iJirF6",
        "outputId": "b842f299-e504-4778-9545-928c6eccdf2d",
        "colab": {
          "base_uri": "https://localhost:8080/",
          "height": 206
        }
      },
      "source": [
        "dataset.head()"
      ],
      "execution_count": 4,
      "outputs": [
        {
          "output_type": "execute_result",
          "data": {
            "text/plain": [
              "   Age  Salary  Purchased\n",
              "0   18   20000          0\n",
              "1   19   22000          0\n",
              "2   20   24000          0\n",
              "3   21   28000          0\n",
              "4   22   60000          1"
            ],
            "text/html": [
              "\n",
              "\n",
              "  <div id=\"df-90ba3f7a-fe01-4fc9-a804-9f603c1cddc6\">\n",
              "    <div class=\"colab-df-container\">\n",
              "      <div>\n",
              "<style scoped>\n",
              "    .dataframe tbody tr th:only-of-type {\n",
              "        vertical-align: middle;\n",
              "    }\n",
              "\n",
              "    .dataframe tbody tr th {\n",
              "        vertical-align: top;\n",
              "    }\n",
              "\n",
              "    .dataframe thead th {\n",
              "        text-align: right;\n",
              "    }\n",
              "</style>\n",
              "<table border=\"1\" class=\"dataframe\">\n",
              "  <thead>\n",
              "    <tr style=\"text-align: right;\">\n",
              "      <th></th>\n",
              "      <th>Age</th>\n",
              "      <th>Salary</th>\n",
              "      <th>Purchased</th>\n",
              "    </tr>\n",
              "  </thead>\n",
              "  <tbody>\n",
              "    <tr>\n",
              "      <th>0</th>\n",
              "      <td>18</td>\n",
              "      <td>20000</td>\n",
              "      <td>0</td>\n",
              "    </tr>\n",
              "    <tr>\n",
              "      <th>1</th>\n",
              "      <td>19</td>\n",
              "      <td>22000</td>\n",
              "      <td>0</td>\n",
              "    </tr>\n",
              "    <tr>\n",
              "      <th>2</th>\n",
              "      <td>20</td>\n",
              "      <td>24000</td>\n",
              "      <td>0</td>\n",
              "    </tr>\n",
              "    <tr>\n",
              "      <th>3</th>\n",
              "      <td>21</td>\n",
              "      <td>28000</td>\n",
              "      <td>0</td>\n",
              "    </tr>\n",
              "    <tr>\n",
              "      <th>4</th>\n",
              "      <td>22</td>\n",
              "      <td>60000</td>\n",
              "      <td>1</td>\n",
              "    </tr>\n",
              "  </tbody>\n",
              "</table>\n",
              "</div>\n",
              "      <button class=\"colab-df-convert\" onclick=\"convertToInteractive('df-90ba3f7a-fe01-4fc9-a804-9f603c1cddc6')\"\n",
              "              title=\"Convert this dataframe to an interactive table.\"\n",
              "              style=\"display:none;\">\n",
              "\n",
              "  <svg xmlns=\"http://www.w3.org/2000/svg\" height=\"24px\"viewBox=\"0 0 24 24\"\n",
              "       width=\"24px\">\n",
              "    <path d=\"M0 0h24v24H0V0z\" fill=\"none\"/>\n",
              "    <path d=\"M18.56 5.44l.94 2.06.94-2.06 2.06-.94-2.06-.94-.94-2.06-.94 2.06-2.06.94zm-11 1L8.5 8.5l.94-2.06 2.06-.94-2.06-.94L8.5 2.5l-.94 2.06-2.06.94zm10 10l.94 2.06.94-2.06 2.06-.94-2.06-.94-.94-2.06-.94 2.06-2.06.94z\"/><path d=\"M17.41 7.96l-1.37-1.37c-.4-.4-.92-.59-1.43-.59-.52 0-1.04.2-1.43.59L10.3 9.45l-7.72 7.72c-.78.78-.78 2.05 0 2.83L4 21.41c.39.39.9.59 1.41.59.51 0 1.02-.2 1.41-.59l7.78-7.78 2.81-2.81c.8-.78.8-2.07 0-2.86zM5.41 20L4 18.59l7.72-7.72 1.47 1.35L5.41 20z\"/>\n",
              "  </svg>\n",
              "      </button>\n",
              "\n",
              "\n",
              "\n",
              "    <div id=\"df-24294e70-d187-41ac-88fa-1949a154885d\">\n",
              "      <button class=\"colab-df-quickchart\" onclick=\"quickchart('df-24294e70-d187-41ac-88fa-1949a154885d')\"\n",
              "              title=\"Suggest charts.\"\n",
              "              style=\"display:none;\">\n",
              "\n",
              "<svg xmlns=\"http://www.w3.org/2000/svg\" height=\"24px\"viewBox=\"0 0 24 24\"\n",
              "     width=\"24px\">\n",
              "    <g>\n",
              "        <path d=\"M19 3H5c-1.1 0-2 .9-2 2v14c0 1.1.9 2 2 2h14c1.1 0 2-.9 2-2V5c0-1.1-.9-2-2-2zM9 17H7v-7h2v7zm4 0h-2V7h2v10zm4 0h-2v-4h2v4z\"/>\n",
              "    </g>\n",
              "</svg>\n",
              "      </button>\n",
              "    </div>\n",
              "\n",
              "<style>\n",
              "  .colab-df-quickchart {\n",
              "    background-color: #E8F0FE;\n",
              "    border: none;\n",
              "    border-radius: 50%;\n",
              "    cursor: pointer;\n",
              "    display: none;\n",
              "    fill: #1967D2;\n",
              "    height: 32px;\n",
              "    padding: 0 0 0 0;\n",
              "    width: 32px;\n",
              "  }\n",
              "\n",
              "  .colab-df-quickchart:hover {\n",
              "    background-color: #E2EBFA;\n",
              "    box-shadow: 0px 1px 2px rgba(60, 64, 67, 0.3), 0px 1px 3px 1px rgba(60, 64, 67, 0.15);\n",
              "    fill: #174EA6;\n",
              "  }\n",
              "\n",
              "  [theme=dark] .colab-df-quickchart {\n",
              "    background-color: #3B4455;\n",
              "    fill: #D2E3FC;\n",
              "  }\n",
              "\n",
              "  [theme=dark] .colab-df-quickchart:hover {\n",
              "    background-color: #434B5C;\n",
              "    box-shadow: 0px 1px 3px 1px rgba(0, 0, 0, 0.15);\n",
              "    filter: drop-shadow(0px 1px 2px rgba(0, 0, 0, 0.3));\n",
              "    fill: #FFFFFF;\n",
              "  }\n",
              "</style>\n",
              "\n",
              "    <script>\n",
              "      async function quickchart(key) {\n",
              "        const containerElement = document.querySelector('#' + key);\n",
              "        const charts = await google.colab.kernel.invokeFunction(\n",
              "            'suggestCharts', [key], {});\n",
              "      }\n",
              "    </script>\n",
              "\n",
              "      <script>\n",
              "\n",
              "function displayQuickchartButton(domScope) {\n",
              "  let quickchartButtonEl =\n",
              "    domScope.querySelector('#df-24294e70-d187-41ac-88fa-1949a154885d button.colab-df-quickchart');\n",
              "  quickchartButtonEl.style.display =\n",
              "    google.colab.kernel.accessAllowed ? 'block' : 'none';\n",
              "}\n",
              "\n",
              "        displayQuickchartButton(document);\n",
              "      </script>\n",
              "      <style>\n",
              "    .colab-df-container {\n",
              "      display:flex;\n",
              "      flex-wrap:wrap;\n",
              "      gap: 12px;\n",
              "    }\n",
              "\n",
              "    .colab-df-convert {\n",
              "      background-color: #E8F0FE;\n",
              "      border: none;\n",
              "      border-radius: 50%;\n",
              "      cursor: pointer;\n",
              "      display: none;\n",
              "      fill: #1967D2;\n",
              "      height: 32px;\n",
              "      padding: 0 0 0 0;\n",
              "      width: 32px;\n",
              "    }\n",
              "\n",
              "    .colab-df-convert:hover {\n",
              "      background-color: #E2EBFA;\n",
              "      box-shadow: 0px 1px 2px rgba(60, 64, 67, 0.3), 0px 1px 3px 1px rgba(60, 64, 67, 0.15);\n",
              "      fill: #174EA6;\n",
              "    }\n",
              "\n",
              "    [theme=dark] .colab-df-convert {\n",
              "      background-color: #3B4455;\n",
              "      fill: #D2E3FC;\n",
              "    }\n",
              "\n",
              "    [theme=dark] .colab-df-convert:hover {\n",
              "      background-color: #434B5C;\n",
              "      box-shadow: 0px 1px 3px 1px rgba(0, 0, 0, 0.15);\n",
              "      filter: drop-shadow(0px 1px 2px rgba(0, 0, 0, 0.3));\n",
              "      fill: #FFFFFF;\n",
              "    }\n",
              "  </style>\n",
              "\n",
              "      <script>\n",
              "        const buttonEl =\n",
              "          document.querySelector('#df-90ba3f7a-fe01-4fc9-a804-9f603c1cddc6 button.colab-df-convert');\n",
              "        buttonEl.style.display =\n",
              "          google.colab.kernel.accessAllowed ? 'block' : 'none';\n",
              "\n",
              "        async function convertToInteractive(key) {\n",
              "          const element = document.querySelector('#df-90ba3f7a-fe01-4fc9-a804-9f603c1cddc6');\n",
              "          const dataTable =\n",
              "            await google.colab.kernel.invokeFunction('convertToInteractive',\n",
              "                                                     [key], {});\n",
              "          if (!dataTable) return;\n",
              "\n",
              "          const docLinkHtml = 'Like what you see? Visit the ' +\n",
              "            '<a target=\"_blank\" href=https://colab.research.google.com/notebooks/data_table.ipynb>data table notebook</a>'\n",
              "            + ' to learn more about interactive tables.';\n",
              "          element.innerHTML = '';\n",
              "          dataTable['output_type'] = 'display_data';\n",
              "          await google.colab.output.renderOutput(dataTable, element);\n",
              "          const docLink = document.createElement('div');\n",
              "          docLink.innerHTML = docLinkHtml;\n",
              "          element.appendChild(docLink);\n",
              "        }\n",
              "      </script>\n",
              "    </div>\n",
              "  </div>\n"
            ]
          },
          "metadata": {},
          "execution_count": 4
        }
      ]
    },
    {
      "cell_type": "code",
      "metadata": {
        "id": "lGW-UkoEiu1k"
      },
      "source": [
        "X = dataset.iloc[:, :-1].values\n",
        "y = dataset.iloc[:,-1].values"
      ],
      "execution_count": 5,
      "outputs": []
    },
    {
      "cell_type": "code",
      "metadata": {
        "id": "WwqBbDl-izXb"
      },
      "source": [
        "from sklearn.model_selection import train_test_split\n",
        "X_train, X_test, y_train, y_test = train_test_split(X, y, test_size =.20,random_state=0)"
      ],
      "execution_count": 6,
      "outputs": []
    },
    {
      "cell_type": "code",
      "metadata": {
        "id": "tt_zXndVi9s7"
      },
      "source": [
        "from sklearn.preprocessing import StandardScaler\n",
        "sc = StandardScaler()\n",
        "X_train = sc.fit_transform(X_train)\n",
        "X_test = sc.transform(X_test)"
      ],
      "execution_count": 7,
      "outputs": []
    },
    {
      "cell_type": "code",
      "metadata": {
        "id": "nUPzbcxnjCdW"
      },
      "source": [
        "# converting array to torch array\n",
        "Xtrain_ = torch.from_numpy(X_train).float()\n",
        "Xtest_ = torch.from_numpy(X_test).float()"
      ],
      "execution_count": 8,
      "outputs": []
    },
    {
      "cell_type": "code",
      "metadata": {
        "id": "DchzoXyEjNzU",
        "outputId": "b2513300-c9fe-4f29-df20-a55a790e80c6",
        "colab": {
          "base_uri": "https://localhost:8080/"
        }
      },
      "source": [
        "Xtrain_"
      ],
      "execution_count": 9,
      "outputs": [
        {
          "output_type": "execute_result",
          "data": {
            "text/plain": [
              "tensor([[-0.0935,  0.2215],\n",
              "        [ 1.2217, -0.5342],\n",
              "        [-1.0655,  0.4104],\n",
              "        ...,\n",
              "        [ 1.2789,  0.4104],\n",
              "        [-0.9512,  0.2215],\n",
              "        [-1.2943, -1.4316]])"
            ]
          },
          "metadata": {},
          "execution_count": 9
        }
      ]
    },
    {
      "cell_type": "code",
      "metadata": {
        "id": "EX0_BrxojP7k"
      },
      "source": [
        "ytrain_ = torch.from_numpy(y_train)\n",
        "ytest_ = torch.from_numpy(y_test)"
      ],
      "execution_count": 10,
      "outputs": []
    },
    {
      "cell_type": "code",
      "metadata": {
        "id": "zzOAG9QQjU1e",
        "outputId": "551170da-970e-4251-e285-18297def21db",
        "colab": {
          "base_uri": "https://localhost:8080/"
        }
      },
      "source": [
        "ytrain_"
      ],
      "execution_count": 11,
      "outputs": [
        {
          "output_type": "execute_result",
          "data": {
            "text/plain": [
              "tensor([1, 1, 1,  ..., 1, 1, 0])"
            ]
          },
          "metadata": {},
          "execution_count": 11
        }
      ]
    },
    {
      "cell_type": "code",
      "metadata": {
        "id": "TTw284qajWim",
        "outputId": "af33fd7d-90af-4538-cac5-d124d0dfb173",
        "colab": {
          "base_uri": "https://localhost:8080/"
        }
      },
      "source": [
        "Xtrain_.shape, ytrain_.shape"
      ],
      "execution_count": 12,
      "outputs": [
        {
          "output_type": "execute_result",
          "data": {
            "text/plain": [
              "(torch.Size([1243, 2]), torch.Size([1243]))"
            ]
          },
          "metadata": {},
          "execution_count": 12
        }
      ]
    },
    {
      "cell_type": "code",
      "metadata": {
        "id": "ZD4SHx5ujaS-",
        "outputId": "ea5978fb-8e97-409d-b00e-e4900093fc09",
        "colab": {
          "base_uri": "https://localhost:8080/"
        }
      },
      "source": [
        "Xtest_.shape, ytest_.shape"
      ],
      "execution_count": 13,
      "outputs": [
        {
          "output_type": "execute_result",
          "data": {
            "text/plain": [
              "(torch.Size([311, 2]), torch.Size([311]))"
            ]
          },
          "metadata": {},
          "execution_count": 13
        }
      ]
    },
    {
      "cell_type": "code",
      "metadata": {
        "id": "vrLRbXL0jeJp"
      },
      "source": [
        "input_size=2 # input features\n",
        "output_size=2 # output features\n",
        "hidden_size=10 # hidden neurons"
      ],
      "execution_count": 14,
      "outputs": []
    },
    {
      "cell_type": "code",
      "metadata": {
        "id": "sHLzhDGQj1IU"
      },
      "source": [
        "# defining the PyTorch model\n",
        "class Net(nn.Module):\n",
        "   def __init__(self):\n",
        "       super(Net, self).__init__()\n",
        "       self.fc1 = torch.nn.Linear(input_size, hidden_size)\n",
        "       self.fc2 = torch.nn.Linear(hidden_size, hidden_size)\n",
        "       self.fc3 = torch.nn.Linear(hidden_size, output_size)\n",
        "\n",
        "\n",
        "   def forward(self, X):\n",
        "       X = torch.relu((self.fc1(X)))\n",
        "       X = torch.relu((self.fc2(X)))\n",
        "       X = self.fc3(X)\n",
        "\n",
        "       return F.log_softmax(X,dim=1)"
      ],
      "execution_count": 15,
      "outputs": []
    },
    {
      "cell_type": "code",
      "metadata": {
        "id": "BmtsSyOakHMi"
      },
      "source": [
        "model = Net()\n"
      ],
      "execution_count": 17,
      "outputs": []
    },
    {
      "cell_type": "code",
      "metadata": {
        "id": "Y1hD_xJakMWR"
      },
      "source": [
        "import torch.optim as optim\n",
        "optimizer = torch.optim.Adam(model.parameters(), lr=0.01)\n",
        "loss_fn = nn.NLLLoss()"
      ],
      "execution_count": 18,
      "outputs": []
    },
    {
      "cell_type": "code",
      "metadata": {
        "id": "4dUAOz5SkVwc"
      },
      "source": [
        "epochs = 100"
      ],
      "execution_count": 19,
      "outputs": []
    },
    {
      "cell_type": "code",
      "metadata": {
        "id": "n7A3HMbbkZ6s",
        "outputId": "b08ffc88-3dee-4e9e-e9b2-b13ebd96dc33",
        "colab": {
          "base_uri": "https://localhost:8080/"
        }
      },
      "source": [
        "# model training\n",
        "for epoch in range(epochs):\n",
        "  optimizer.zero_grad()\n",
        "  Ypred = model(Xtrain_)\n",
        "  loss = loss_fn(Ypred,  ytrain_)\n",
        "  loss.backward()\n",
        "  optimizer.step()\n",
        "  print('Epoch',epoch, 'loss',loss.item())"
      ],
      "execution_count": 20,
      "outputs": [
        {
          "output_type": "stream",
          "name": "stdout",
          "text": [
            "Epoch 0 loss 0.6752635836601257\n",
            "Epoch 1 loss 0.6460391283035278\n",
            "Epoch 2 loss 0.6196292042732239\n",
            "Epoch 3 loss 0.5945513248443604\n",
            "Epoch 4 loss 0.5708674192428589\n",
            "Epoch 5 loss 0.5484994649887085\n",
            "Epoch 6 loss 0.5273096561431885\n",
            "Epoch 7 loss 0.5072876811027527\n",
            "Epoch 8 loss 0.488503634929657\n",
            "Epoch 9 loss 0.4710187613964081\n",
            "Epoch 10 loss 0.45452386140823364\n",
            "Epoch 11 loss 0.43906712532043457\n",
            "Epoch 12 loss 0.42424893379211426\n",
            "Epoch 13 loss 0.40970751643180847\n",
            "Epoch 14 loss 0.3951682448387146\n",
            "Epoch 15 loss 0.380665123462677\n",
            "Epoch 16 loss 0.3662615120410919\n",
            "Epoch 17 loss 0.3522205948829651\n",
            "Epoch 18 loss 0.33839213848114014\n",
            "Epoch 19 loss 0.32491010427474976\n",
            "Epoch 20 loss 0.3117380738258362\n",
            "Epoch 21 loss 0.2987034022808075\n",
            "Epoch 22 loss 0.28584960103034973\n",
            "Epoch 23 loss 0.2731923758983612\n",
            "Epoch 24 loss 0.26079660654067993\n",
            "Epoch 25 loss 0.24862590432167053\n",
            "Epoch 26 loss 0.23667852580547333\n",
            "Epoch 27 loss 0.22497592866420746\n",
            "Epoch 28 loss 0.21367421746253967\n",
            "Epoch 29 loss 0.20321036875247955\n",
            "Epoch 30 loss 0.1934243142604828\n",
            "Epoch 31 loss 0.18425847589969635\n",
            "Epoch 32 loss 0.17564061284065247\n",
            "Epoch 33 loss 0.16756223142147064\n",
            "Epoch 34 loss 0.16010454297065735\n",
            "Epoch 35 loss 0.15326431393623352\n",
            "Epoch 36 loss 0.1470586210489273\n",
            "Epoch 37 loss 0.14148688316345215\n",
            "Epoch 38 loss 0.1365993171930313\n",
            "Epoch 39 loss 0.132438063621521\n",
            "Epoch 40 loss 0.12883727252483368\n",
            "Epoch 41 loss 0.12571291625499725\n",
            "Epoch 42 loss 0.12303455173969269\n",
            "Epoch 43 loss 0.12073463201522827\n",
            "Epoch 44 loss 0.11877848953008652\n",
            "Epoch 45 loss 0.117132268846035\n",
            "Epoch 46 loss 0.11573880165815353\n",
            "Epoch 47 loss 0.11458969116210938\n",
            "Epoch 48 loss 0.11358815431594849\n",
            "Epoch 49 loss 0.11269520223140717\n",
            "Epoch 50 loss 0.11190097779035568\n",
            "Epoch 51 loss 0.11120440810918808\n",
            "Epoch 52 loss 0.11061615496873856\n",
            "Epoch 53 loss 0.11017133295536041\n",
            "Epoch 54 loss 0.10980609804391861\n",
            "Epoch 55 loss 0.10951026529073715\n",
            "Epoch 56 loss 0.10932638496160507\n",
            "Epoch 57 loss 0.10917682200670242\n",
            "Epoch 58 loss 0.10905475914478302\n",
            "Epoch 59 loss 0.1089443564414978\n",
            "Epoch 60 loss 0.10883472114801407\n",
            "Epoch 61 loss 0.10872495919466019\n",
            "Epoch 62 loss 0.10861208289861679\n",
            "Epoch 63 loss 0.10849383473396301\n",
            "Epoch 64 loss 0.10841631144285202\n",
            "Epoch 65 loss 0.10836460441350937\n",
            "Epoch 66 loss 0.1083119660615921\n",
            "Epoch 67 loss 0.1082567498087883\n",
            "Epoch 68 loss 0.10819734632968903\n",
            "Epoch 69 loss 0.10813383013010025\n",
            "Epoch 70 loss 0.10806680470705032\n",
            "Epoch 71 loss 0.1079966127872467\n",
            "Epoch 72 loss 0.10792316496372223\n",
            "Epoch 73 loss 0.10784664005041122\n",
            "Epoch 74 loss 0.10777853429317474\n",
            "Epoch 75 loss 0.10770891606807709\n",
            "Epoch 76 loss 0.1076383963227272\n",
            "Epoch 77 loss 0.10756790637969971\n",
            "Epoch 78 loss 0.10749854892492294\n",
            "Epoch 79 loss 0.10742968320846558\n",
            "Epoch 80 loss 0.1073618084192276\n",
            "Epoch 81 loss 0.10729537159204483\n",
            "Epoch 82 loss 0.1072363629937172\n",
            "Epoch 83 loss 0.10719384998083115\n",
            "Epoch 84 loss 0.10715077817440033\n",
            "Epoch 85 loss 0.1070910394191742\n",
            "Epoch 86 loss 0.10702325403690338\n",
            "Epoch 87 loss 0.1069735661149025\n",
            "Epoch 88 loss 0.1069246232509613\n",
            "Epoch 89 loss 0.10687890648841858\n",
            "Epoch 90 loss 0.10683315247297287\n",
            "Epoch 91 loss 0.10678699612617493\n",
            "Epoch 92 loss 0.10674036294221878\n",
            "Epoch 93 loss 0.10669324547052383\n",
            "Epoch 94 loss 0.10664498060941696\n",
            "Epoch 95 loss 0.10659439861774445\n",
            "Epoch 96 loss 0.1065434068441391\n",
            "Epoch 97 loss 0.10649251192808151\n",
            "Epoch 98 loss 0.10644327104091644\n",
            "Epoch 99 loss 0.10639382898807526\n"
          ]
        }
      ]
    },
    {
      "cell_type": "code",
      "metadata": {
        "id": "8tCbFPQekqD7",
        "outputId": "83626702-1a18-4854-b02b-832162c2793a",
        "colab": {
          "base_uri": "https://localhost:8080/"
        }
      },
      "source": [
        "list(model.parameters())"
      ],
      "execution_count": 21,
      "outputs": [
        {
          "output_type": "execute_result",
          "data": {
            "text/plain": [
              "[Parameter containing:\n",
              " tensor([[ 0.6406, -0.3251],\n",
              "         [-0.1492,  0.1595],\n",
              "         [ 1.1633,  0.5958],\n",
              "         [-0.4106,  0.4027],\n",
              "         [ 1.0447,  0.8815],\n",
              "         [-0.0014,  0.6626],\n",
              "         [-0.7802, -0.8736],\n",
              "         [ 0.9894, -0.1063],\n",
              "         [-0.1443,  1.0242],\n",
              "         [ 1.0917, -0.1393]], requires_grad=True),\n",
              " Parameter containing:\n",
              " tensor([-0.4538, -0.5055,  0.8142,  0.3233,  0.6768,  0.5435,  1.0104,  0.2746,\n",
              "          0.5999,  0.0880], requires_grad=True),\n",
              " Parameter containing:\n",
              " tensor([[ 0.2719, -0.0598,  0.6311,  0.3459,  0.2693,  0.6105, -0.1772,  0.2152,\n",
              "           0.6075,  0.6806],\n",
              "         [ 0.4362, -0.1592,  0.3940,  0.5623,  0.4358,  0.6848, -0.3512,  0.6086,\n",
              "           0.4168,  0.6284],\n",
              "         [-0.0107,  0.0150,  0.2185,  0.1446, -0.2910, -0.2974, -0.1164, -0.1584,\n",
              "           0.1499,  0.2407],\n",
              "         [ 0.0989, -0.0779, -0.0687,  0.0594, -0.1168,  0.1300, -0.3991, -0.3156,\n",
              "           0.0603, -0.1055],\n",
              "         [-0.3312, -0.0187,  0.2128, -0.2756, -0.2489, -0.0928, -0.1043, -0.0714,\n",
              "          -0.3610, -0.3696],\n",
              "         [ 0.2360,  0.1896,  0.5927,  0.2733,  0.4848,  0.1725, -0.1165,  0.1736,\n",
              "           0.5026,  0.2538],\n",
              "         [-0.0506, -0.2604, -0.6295,  0.0652, -0.1196, -0.2401,  0.6764, -0.0766,\n",
              "          -0.1629, -0.0696],\n",
              "         [ 0.7637,  0.0845,  0.3259,  0.5067,  0.6896,  0.1473, -0.1452,  0.5831,\n",
              "           0.6206,  0.3547],\n",
              "         [ 0.1394, -0.1628,  0.0487,  0.5078,  0.3261,  0.5659, -0.1966,  0.4401,\n",
              "           0.4315,  0.0857],\n",
              "         [-0.3664, -0.3071, -0.0623, -0.2518, -0.3107,  0.0660,  0.6034, -0.3037,\n",
              "          -0.3995, -0.4092]], requires_grad=True),\n",
              " Parameter containing:\n",
              " tensor([ 0.2412,  0.5845, -0.0921, -0.0878, -0.0853,  0.1333,  0.6450,  0.2310,\n",
              "          0.1229,  0.4955], requires_grad=True),\n",
              " Parameter containing:\n",
              " tensor([[-0.5953, -0.2232,  0.0908,  0.1182,  0.1307, -0.5013,  0.5183, -0.5029,\n",
              "          -0.4177,  0.1700],\n",
              "         [ 0.6030,  0.5251,  0.2213,  0.1423,  0.1572,  0.5415, -0.6544,  0.3460,\n",
              "           0.0790, -0.6777]], requires_grad=True),\n",
              " Parameter containing:\n",
              " tensor([-0.0563, -0.2814], requires_grad=True)]"
            ]
          },
          "metadata": {},
          "execution_count": 21
        }
      ]
    },
    {
      "cell_type": "code",
      "metadata": {
        "id": "HbTrVKqSkx7d",
        "outputId": "61734903-2193-49c4-dada-e2d26308f25c",
        "colab": {
          "base_uri": "https://localhost:8080/"
        }
      },
      "source": [
        "torch.from_numpy(sc.transform(np.array([[40,20000]]))).float()"
      ],
      "execution_count": 22,
      "outputs": [
        {
          "output_type": "execute_result",
          "data": {
            "text/plain": [
              "tensor([[-0.2650, -1.7622]])"
            ]
          },
          "metadata": {},
          "execution_count": 22
        }
      ]
    },
    {
      "cell_type": "code",
      "metadata": {
        "id": "G5uCfbcjk8Ul",
        "outputId": "0c642e35-db8a-4951-b802-8982d064d964",
        "colab": {
          "base_uri": "https://localhost:8080/"
        }
      },
      "source": [
        "y_cust_20_40000 = model(torch.from_numpy(sc.transform(np.array([[40,20000]]))).float())\n",
        "y_cust_20_40000"
      ],
      "execution_count": 23,
      "outputs": [
        {
          "output_type": "execute_result",
          "data": {
            "text/plain": [
              "tensor([[-0.0073, -4.9168]], grad_fn=<LogSoftmaxBackward0>)"
            ]
          },
          "metadata": {},
          "execution_count": 23
        }
      ]
    },
    {
      "cell_type": "code",
      "metadata": {
        "id": "ai8UmN6elEws",
        "outputId": "c16f76e9-2185-4694-ee46-4d514178955d",
        "colab": {
          "base_uri": "https://localhost:8080/"
        }
      },
      "source": [
        "_, predicted_20_40000 = torch.max(y_cust_20_40000.data,-1)\n",
        "predicted_20_40000"
      ],
      "execution_count": 24,
      "outputs": [
        {
          "output_type": "execute_result",
          "data": {
            "text/plain": [
              "tensor([0])"
            ]
          },
          "metadata": {},
          "execution_count": 24
        }
      ]
    },
    {
      "cell_type": "code",
      "metadata": {
        "id": "V4EcicUzlNLL",
        "outputId": "af571d8a-bdd1-4eb2-b782-ba6e4873cb61",
        "colab": {
          "base_uri": "https://localhost:8080/"
        }
      },
      "source": [
        "y_cust_42_50000 = model(torch.from_numpy(sc.transform(np.array([[42,50000]]))).float())\n",
        "y_cust_42_50000"
      ],
      "execution_count": 25,
      "outputs": [
        {
          "output_type": "execute_result",
          "data": {
            "text/plain": [
              "tensor([[-1.0255, -0.4441]], grad_fn=<LogSoftmaxBackward0>)"
            ]
          },
          "metadata": {},
          "execution_count": 25
        }
      ]
    },
    {
      "cell_type": "code",
      "metadata": {
        "id": "BsCTqgcUlSMj",
        "outputId": "3bbb1dbb-5ad8-4697-bd89-ea9ec9a1e3d5",
        "colab": {
          "base_uri": "https://localhost:8080/"
        }
      },
      "source": [
        "_, predicted_42_50000 = torch.max(y_cust_42_50000.data,-1)\n",
        "predicted_42_50000"
      ],
      "execution_count": 26,
      "outputs": [
        {
          "output_type": "execute_result",
          "data": {
            "text/plain": [
              "tensor([1])"
            ]
          },
          "metadata": {},
          "execution_count": 26
        }
      ]
    },
    {
      "cell_type": "code",
      "metadata": {
        "id": "VwpCd3vRlXWk"
      },
      "source": [
        "# saving the model\n",
        "torch.save(model,'customer_buy.pt')"
      ],
      "execution_count": 27,
      "outputs": []
    },
    {
      "cell_type": "code",
      "metadata": {
        "id": "wcrKfl8kljs2",
        "outputId": "67c2bc43-b81a-4912-ce4b-fd573496d7db",
        "colab": {
          "base_uri": "https://localhost:8080/"
        }
      },
      "source": [
        "!ls"
      ],
      "execution_count": 28,
      "outputs": [
        {
          "output_type": "stream",
          "name": "stdout",
          "text": [
            "customer_buy.pt  sample_data\n"
          ]
        }
      ]
    },
    {
      "cell_type": "code",
      "metadata": {
        "id": "VwbReEK7lnmQ"
      },
      "source": [
        "restored_model = torch.load('customer_buy.pt')"
      ],
      "execution_count": 29,
      "outputs": []
    },
    {
      "cell_type": "code",
      "metadata": {
        "id": "5j_iiPwVlsVm",
        "outputId": "4e981cbf-cc68-4204-91a1-8d225e70021c",
        "colab": {
          "base_uri": "https://localhost:8080/"
        }
      },
      "source": [
        "y_cust_20_40000 = restored_model(torch.from_numpy(sc.transform(np.array([[40,20000]]))).float())\n",
        "y_cust_20_40000"
      ],
      "execution_count": 30,
      "outputs": [
        {
          "output_type": "execute_result",
          "data": {
            "text/plain": [
              "tensor([[-0.0073, -4.9168]], grad_fn=<LogSoftmaxBackward0>)"
            ]
          },
          "metadata": {},
          "execution_count": 30
        }
      ]
    },
    {
      "cell_type": "code",
      "metadata": {
        "id": "JWDR8djBlv5P",
        "outputId": "0123301e-8680-4b7b-e06b-e4e36e023c0a",
        "colab": {
          "base_uri": "https://localhost:8080/"
        }
      },
      "source": [
        "_, predicted_20_40000 = torch.max(y_cust_20_40000.data,-1)\n",
        "predicted_20_40000"
      ],
      "execution_count": 31,
      "outputs": [
        {
          "output_type": "execute_result",
          "data": {
            "text/plain": [
              "tensor([0])"
            ]
          },
          "metadata": {},
          "execution_count": 31
        }
      ]
    },
    {
      "cell_type": "code",
      "metadata": {
        "id": "ikQlQwQtl1o1",
        "outputId": "b3274c7d-26dd-40fd-8233-ea1f1094138f",
        "colab": {
          "base_uri": "https://localhost:8080/"
        }
      },
      "source": [
        "model.state_dict()"
      ],
      "execution_count": 32,
      "outputs": [
        {
          "output_type": "execute_result",
          "data": {
            "text/plain": [
              "OrderedDict([('fc1.weight',\n",
              "              tensor([[ 0.6406, -0.3251],\n",
              "                      [-0.1492,  0.1595],\n",
              "                      [ 1.1633,  0.5958],\n",
              "                      [-0.4106,  0.4027],\n",
              "                      [ 1.0447,  0.8815],\n",
              "                      [-0.0014,  0.6626],\n",
              "                      [-0.7802, -0.8736],\n",
              "                      [ 0.9894, -0.1063],\n",
              "                      [-0.1443,  1.0242],\n",
              "                      [ 1.0917, -0.1393]])),\n",
              "             ('fc1.bias',\n",
              "              tensor([-0.4538, -0.5055,  0.8142,  0.3233,  0.6768,  0.5435,  1.0104,  0.2746,\n",
              "                       0.5999,  0.0880])),\n",
              "             ('fc2.weight',\n",
              "              tensor([[ 0.2719, -0.0598,  0.6311,  0.3459,  0.2693,  0.6105, -0.1772,  0.2152,\n",
              "                        0.6075,  0.6806],\n",
              "                      [ 0.4362, -0.1592,  0.3940,  0.5623,  0.4358,  0.6848, -0.3512,  0.6086,\n",
              "                        0.4168,  0.6284],\n",
              "                      [-0.0107,  0.0150,  0.2185,  0.1446, -0.2910, -0.2974, -0.1164, -0.1584,\n",
              "                        0.1499,  0.2407],\n",
              "                      [ 0.0989, -0.0779, -0.0687,  0.0594, -0.1168,  0.1300, -0.3991, -0.3156,\n",
              "                        0.0603, -0.1055],\n",
              "                      [-0.3312, -0.0187,  0.2128, -0.2756, -0.2489, -0.0928, -0.1043, -0.0714,\n",
              "                       -0.3610, -0.3696],\n",
              "                      [ 0.2360,  0.1896,  0.5927,  0.2733,  0.4848,  0.1725, -0.1165,  0.1736,\n",
              "                        0.5026,  0.2538],\n",
              "                      [-0.0506, -0.2604, -0.6295,  0.0652, -0.1196, -0.2401,  0.6764, -0.0766,\n",
              "                       -0.1629, -0.0696],\n",
              "                      [ 0.7637,  0.0845,  0.3259,  0.5067,  0.6896,  0.1473, -0.1452,  0.5831,\n",
              "                        0.6206,  0.3547],\n",
              "                      [ 0.1394, -0.1628,  0.0487,  0.5078,  0.3261,  0.5659, -0.1966,  0.4401,\n",
              "                        0.4315,  0.0857],\n",
              "                      [-0.3664, -0.3071, -0.0623, -0.2518, -0.3107,  0.0660,  0.6034, -0.3037,\n",
              "                       -0.3995, -0.4092]])),\n",
              "             ('fc2.bias',\n",
              "              tensor([ 0.2412,  0.5845, -0.0921, -0.0878, -0.0853,  0.1333,  0.6450,  0.2310,\n",
              "                       0.1229,  0.4955])),\n",
              "             ('fc3.weight',\n",
              "              tensor([[-0.5953, -0.2232,  0.0908,  0.1182,  0.1307, -0.5013,  0.5183, -0.5029,\n",
              "                       -0.4177,  0.1700],\n",
              "                      [ 0.6030,  0.5251,  0.2213,  0.1423,  0.1572,  0.5415, -0.6544,  0.3460,\n",
              "                        0.0790, -0.6777]])),\n",
              "             ('fc3.bias', tensor([-0.0563, -0.2814]))])"
            ]
          },
          "metadata": {},
          "execution_count": 32
        }
      ]
    },
    {
      "cell_type": "code",
      "metadata": {
        "id": "t8XHBuj3mAXx"
      },
      "source": [
        "# this should be the recommended approach to save the model\n",
        "torch.save(model.state_dict(),'customer_buy_state_dict')"
      ],
      "execution_count": 33,
      "outputs": []
    },
    {
      "cell_type": "code",
      "metadata": {
        "id": "dhKlDAtLmPZG",
        "outputId": "10a98f5c-d1b8-44ca-97ea-180ec71a2c87",
        "colab": {
          "base_uri": "https://localhost:8080/"
        }
      },
      "source": [
        "!ls"
      ],
      "execution_count": 34,
      "outputs": [
        {
          "output_type": "stream",
          "name": "stdout",
          "text": [
            "customer_buy.pt  customer_buy_state_dict  sample_data\n"
          ]
        }
      ]
    },
    {
      "cell_type": "code",
      "metadata": {
        "id": "RWrbBfLlma-j"
      },
      "source": [
        "new_predictor = Net()"
      ],
      "execution_count": 35,
      "outputs": []
    },
    {
      "cell_type": "code",
      "metadata": {
        "id": "6c29JI0AmfSc",
        "outputId": "26bf6805-067c-4a7e-dede-aca28a600b14",
        "colab": {
          "base_uri": "https://localhost:8080/"
        }
      },
      "source": [
        "y_cust_20_40000 = new_predictor(torch.from_numpy(sc.transform(np.array([[40,20000]]))).float())\n",
        "y_cust_20_40000"
      ],
      "execution_count": 36,
      "outputs": [
        {
          "output_type": "execute_result",
          "data": {
            "text/plain": [
              "tensor([[-1.1578, -0.3771]], grad_fn=<LogSoftmaxBackward0>)"
            ]
          },
          "metadata": {},
          "execution_count": 36
        }
      ]
    },
    {
      "cell_type": "code",
      "metadata": {
        "id": "IXghzRixmTfR",
        "outputId": "8f00fc4c-c68b-40ed-a288-2ab29067bbb2",
        "colab": {
          "base_uri": "https://localhost:8080/"
        }
      },
      "source": [
        "# saving all files to a zip folder\n",
        "!zip -r customer_buy_state_dict.zip customer_buy_state_dict"
      ],
      "execution_count": 37,
      "outputs": [
        {
          "output_type": "stream",
          "name": "stdout",
          "text": [
            "  adding: customer_buy_state_dict (deflated 50%)\n"
          ]
        }
      ]
    },
    {
      "cell_type": "code",
      "metadata": {
        "id": "Pjeh8t5pmZMv",
        "outputId": "697582b2-e773-46f6-ebf3-0c7992a5cd70",
        "colab": {
          "base_uri": "https://localhost:8080/"
        }
      },
      "source": [
        "!ls"
      ],
      "execution_count": 38,
      "outputs": [
        {
          "output_type": "stream",
          "name": "stdout",
          "text": [
            "customer_buy.pt\t\t customer_buy_state_dict.zip\n",
            "customer_buy_state_dict  sample_data\n"
          ]
        }
      ]
    },
    {
      "cell_type": "code",
      "metadata": {
        "id": "UlPL_x6QmlRI"
      },
      "source": [
        "from google.colab import files\n"
      ],
      "execution_count": null,
      "outputs": []
    },
    {
      "cell_type": "code",
      "metadata": {
        "id": "Aukqgbnqmpjm",
        "outputId": "f40b8b7f-654b-4860-eae6-6cee2326f8c7",
        "colab": {
          "base_uri": "https://localhost:8080/",
          "height": 17
        }
      },
      "source": [
        "files.download('customer_buy_state_dict.zip')"
      ],
      "execution_count": null,
      "outputs": [
        {
          "output_type": "display_data",
          "data": {
            "application/javascript": [
              "\n",
              "    async function download(id, filename, size) {\n",
              "      if (!google.colab.kernel.accessAllowed) {\n",
              "        return;\n",
              "      }\n",
              "      const div = document.createElement('div');\n",
              "      const label = document.createElement('label');\n",
              "      label.textContent = `Downloading \"${filename}\": `;\n",
              "      div.appendChild(label);\n",
              "      const progress = document.createElement('progress');\n",
              "      progress.max = size;\n",
              "      div.appendChild(progress);\n",
              "      document.body.appendChild(div);\n",
              "\n",
              "      const buffers = [];\n",
              "      let downloaded = 0;\n",
              "\n",
              "      const channel = await google.colab.kernel.comms.open(id);\n",
              "      // Send a message to notify the kernel that we're ready.\n",
              "      channel.send({})\n",
              "\n",
              "      for await (const message of channel.messages) {\n",
              "        // Send a message to notify the kernel that we're ready.\n",
              "        channel.send({})\n",
              "        if (message.buffers) {\n",
              "          for (const buffer of message.buffers) {\n",
              "            buffers.push(buffer);\n",
              "            downloaded += buffer.byteLength;\n",
              "            progress.value = downloaded;\n",
              "          }\n",
              "        }\n",
              "      }\n",
              "      const blob = new Blob(buffers, {type: 'application/binary'});\n",
              "      const a = document.createElement('a');\n",
              "      a.href = window.URL.createObjectURL(blob);\n",
              "      a.download = filename;\n",
              "      div.appendChild(a);\n",
              "      a.click();\n",
              "      div.remove();\n",
              "    }\n",
              "  "
            ],
            "text/plain": [
              "<IPython.core.display.Javascript object>"
            ]
          },
          "metadata": {
            "tags": []
          }
        },
        {
          "output_type": "display_data",
          "data": {
            "application/javascript": [
              "download(\"download_7a6ea00c-c74c-4a47-a4d4-c75684d02cf3\", \"customer_buy_state_dict.zip\", 1660)"
            ],
            "text/plain": [
              "<IPython.core.display.Javascript object>"
            ]
          },
          "metadata": {
            "tags": []
          }
        }
      ]
    },
    {
      "cell_type": "markdown",
      "source": [
        "## Now loading the saved model in dictionary format and do prediction\n"
      ],
      "metadata": {
        "id": "JhUikIRS_oFs"
      }
    },
    {
      "cell_type": "code",
      "metadata": {
        "id": "aCkgk2WEmrsX"
      },
      "source": [
        "# before doing it here, we need to import necessary libraries and define the necessary parameters\n",
        "new_prediction2 = Net()"
      ],
      "execution_count": 39,
      "outputs": []
    },
    {
      "cell_type": "code",
      "source": [
        "new_prediction2.load_state_dict(torch.load('customer_buy_state_dict'))"
      ],
      "metadata": {
        "colab": {
          "base_uri": "https://localhost:8080/"
        },
        "id": "UiLySrh6ADgp",
        "outputId": "af92ff37-68ad-4903-84ba-c144ddca39d2"
      },
      "execution_count": 40,
      "outputs": [
        {
          "output_type": "execute_result",
          "data": {
            "text/plain": [
              "<All keys matched successfully>"
            ]
          },
          "metadata": {},
          "execution_count": 40
        }
      ]
    },
    {
      "cell_type": "code",
      "source": [
        "new_prediction2(torch.from_numpy(sc.transform(np.array([[40,20000]]))).float())"
      ],
      "metadata": {
        "colab": {
          "base_uri": "https://localhost:8080/"
        },
        "id": "Bd9_HOWSAQoO",
        "outputId": "eba43b0d-b895-4aaa-e0c3-2a1de212db39"
      },
      "execution_count": 42,
      "outputs": [
        {
          "output_type": "execute_result",
          "data": {
            "text/plain": [
              "tensor([[-0.0073, -4.9168]], grad_fn=<LogSoftmaxBackward0>)"
            ]
          },
          "metadata": {},
          "execution_count": 42
        }
      ]
    },
    {
      "cell_type": "code",
      "source": [],
      "metadata": {
        "id": "7llOoAsxAZkl"
      },
      "execution_count": null,
      "outputs": []
    }
  ]
}